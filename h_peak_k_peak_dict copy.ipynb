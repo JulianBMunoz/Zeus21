{
 "cells": [
  {
   "cell_type": "code",
   "execution_count": 1,
   "metadata": {},
   "outputs": [],
   "source": [
    "import zeus21\n",
    "from matplotlib import pyplot as plt\n",
    "import numpy as np\n",
    "import scipy\n",
    "from scipy.interpolate import interp1d,InterpolatedUnivariateSpline\n",
    "from matplotlib.gridspec import GridSpec\n",
    "import matplotlib.lines as mlines\n",
    "#set up the CLASS cosmology\n",
    "from classy import Class\n",
    "ClassCosmo = Class()\n",
    "ClassCosmo.compute()\n",
    "\n",
    "import sys\n",
    "sys.path.append('../21cm_ETHOS/21cmFAST-ethos-analysis-main/')\n",
    "import sheth_tormen as st\n",
    "\n",
    "from astropy.cosmology import FlatLambdaCDM\n",
    "from astropy.cosmology import Planck15 as P15\n",
    "from astropy import constants as const\n",
    "import astropy.units as u\n",
    "import h5py\n"
   ]
  },
  {
   "cell_type": "code",
   "execution_count": 2,
   "metadata": {},
   "outputs": [],
   "source": [
    "\n",
    "CosmoParams_input = zeus21.Cosmo_Parameters_Input()\n",
    "ClassyCosmo = zeus21.runclass(CosmoParams_input)\n",
    "parcos = zeus21.Cosmo_Parameters(CosmoParams_input,ClassyCosmo)\n",
    "\n",
    "corrf = zeus21.Correlations(parcos,ClassyCosmo)\n",
    "parastro = zeus21.Astro_Parameters(parcos)"
   ]
  },
  {
   "attachments": {},
   "cell_type": "markdown",
   "metadata": {},
   "source": [
    "dictest = {}\n",
    "\n",
    "def linspace(start, stop, step=1.):\n",
    "\n",
    "  return np.linspace(start, stop, int((stop - start) / step + 1))\n",
    "\n",
    "data = linspace(1, 10)\n",
    "data2 = linspace(1, 10)\n",
    "\n",
    "for i in range(len(data)):\n",
    "    for j in range(len(data2)):\n",
    "        y = linspace(0,data[i]+data2[j])\n",
    "        dictest.update({(data[i],data2[j]):y})\n",
    "\n",
    "       "
   ]
  },
  {
   "cell_type": "code",
   "execution_count": 3,
   "metadata": {},
   "outputs": [],
   "source": [
    "dictest = {}\n",
    "\n",
    "h_peak = [0.2,0.5]\n",
    "k_peak = [50,100]#[1.7,2]\n",
    "\n",
    "for i in range(len(h_peak)):\n",
    "    for j in range(len(k_peak)):\n",
    "        y = zeus21.HMF_interpolator(parcos, ClassyCosmo,LCDM=False, logk=True, h_peak=h_peak[i],k_peak=k_peak[j])\n",
    "        dictest.update({(h_peak[i],k_peak[j]):y})"
   ]
  },
  {
   "cell_type": "code",
   "execution_count": 4,
   "metadata": {},
   "outputs": [
    {
     "data": {
      "text/plain": [
       "<zeus21.cosmology.HMF_interpolator at 0x7fc640243310>"
      ]
     },
     "execution_count": 4,
     "metadata": {},
     "output_type": "execute_result"
    }
   ],
   "source": [
    "zeus21.HMF_interpolator(parcos, ClassyCosmo,LCDM=False)"
   ]
  },
  {
   "cell_type": "code",
   "execution_count": 5,
   "metadata": {},
   "outputs": [
    {
     "data": {
      "text/plain": [
       "{(0.2, 50): <zeus21.cosmology.HMF_interpolator at 0x7fc6402432b0>,\n",
       " (0.2, 100): <zeus21.cosmology.HMF_interpolator at 0x7fc620a7a050>,\n",
       " (0.5, 50): <zeus21.cosmology.HMF_interpolator at 0x7fc6401549d0>,\n",
       " (0.5, 100): <zeus21.cosmology.HMF_interpolator at 0x7fc658be7f10>}"
      ]
     },
     "execution_count": 5,
     "metadata": {},
     "output_type": "execute_result"
    }
   ],
   "source": [
    "dictest"
   ]
  },
  {
   "cell_type": "code",
   "execution_count": 6,
   "metadata": {},
   "outputs": [
    {
     "data": {
      "text/plain": [
       "<zeus21.cosmology.HMF_interpolator at 0x7fc658be7f10>"
      ]
     },
     "execution_count": 6,
     "metadata": {},
     "output_type": "execute_result"
    }
   ],
   "source": [
    "dictest[0.5,100]"
   ]
  },
  {
   "cell_type": "code",
   "execution_count": 7,
   "metadata": {},
   "outputs": [],
   "source": [
    "T21_coeff = zeus21.get_T21_coefficients(parcos, ClassyCosmo, parastro, dictest[0.5,100], zmin=10)\n",
    "powerspec21 = zeus21.Power_Spectra(parcos, ClassCosmo, corrf, T21_coeff, RSD_MODE=1)"
   ]
  },
  {
   "cell_type": "code",
   "execution_count": 8,
   "metadata": {},
   "outputs": [],
   "source": [
    "klist = powerspec21.klist_PS\n",
    "zlist = T21_coeff.zintegral"
   ]
  },
  {
   "cell_type": "code",
   "execution_count": 9,
   "metadata": {},
   "outputs": [],
   "source": [
    "kchoose=0.121\n",
    "_ik = min(range(len(klist)), key=lambda i: np.abs(klist[i]-kchoose))\n",
    "zchoose=18.1892;\n",
    "_iz = min(range(len(zlist)), key=lambda i: np.abs(zlist[i]-zchoose))"
   ]
  },
  {
   "cell_type": "code",
   "execution_count": 10,
   "metadata": {},
   "outputs": [
    {
     "data": {
      "text/plain": [
       "30"
      ]
     },
     "execution_count": 10,
     "metadata": {},
     "output_type": "execute_result"
    }
   ],
   "source": [
    "_ik"
   ]
  },
  {
   "cell_type": "code",
   "execution_count": 11,
   "metadata": {},
   "outputs": [
    {
     "data": {
      "text/plain": [
       "0.11547230876763816"
      ]
     },
     "execution_count": 11,
     "metadata": {},
     "output_type": "execute_result"
    }
   ],
   "source": [
    "klist[_ik]"
   ]
  },
  {
   "cell_type": "code",
   "execution_count": 12,
   "metadata": {},
   "outputs": [
    {
     "data": {
      "text/plain": [
       "18.158502122237405"
      ]
     },
     "execution_count": 12,
     "metadata": {},
     "output_type": "execute_result"
    }
   ],
   "source": [
    "zlist[_iz]"
   ]
  },
  {
   "cell_type": "code",
   "execution_count": 13,
   "metadata": {},
   "outputs": [],
   "source": [
    "zrange = np.array([27.4, 23.4828, 20.5152, 18.1892, 16.3171, 14.7778, 13.4898, \\\n",
    "12.3962, 11.4561, 10.6393, 9.92308])\n",
    "\n",
    "z_range_center = []\n",
    "\n",
    "for i in range(1,len(zrange)):\n",
    "    z_range_center.append((zrange[i-1]-zrange[i])/2+zrange[i])"
   ]
  },
  {
   "cell_type": "code",
   "execution_count": 14,
   "metadata": {},
   "outputs": [
    {
     "data": {
      "text/plain": [
       "[25.4414,\n",
       " 21.999000000000002,\n",
       " 19.3522,\n",
       " 17.253149999999998,\n",
       " 15.54745,\n",
       " 14.1338,\n",
       " 12.943000000000001,\n",
       " 11.92615,\n",
       " 11.047699999999999,\n",
       " 10.28119]"
      ]
     },
     "execution_count": 14,
     "metadata": {},
     "output_type": "execute_result"
    }
   ],
   "source": [
    "z_range_center"
   ]
  },
  {
   "cell_type": "code",
   "execution_count": 15,
   "metadata": {},
   "outputs": [],
   "source": [
    "krange = np.array([0.1, 0.11, 0.121, 0.1331, 0.14641, 0.161051, 0.177156, \\\n",
    "0.194872, 0.214359, 0.235795, 0.259374, 0.285312, 0.313843, 0.345227, \\\n",
    "0.37975, 0.417725, 0.459497, 0.505447, 0.555992, 0.611591, 0.67275, \\\n",
    "0.740025, 0.814027, 0.89543, 0.984973, 1.08347, 1.19182, 1.311, \\\n",
    "1.4421])\n",
    "\n",
    "k_range_center = []\n",
    "\n",
    "for i in range(1,len(krange)):\n",
    "   k_range_center.append((krange[i-1]-krange[i])/2+krange[i])"
   ]
  },
  {
   "cell_type": "code",
   "execution_count": 16,
   "metadata": {},
   "outputs": [
    {
     "data": {
      "text/plain": [
       "[0.10500000000000001,\n",
       " 0.11549999999999999,\n",
       " 0.12705,\n",
       " 0.13975500000000002,\n",
       " 0.1537305,\n",
       " 0.16910350000000002,\n",
       " 0.186014,\n",
       " 0.2046155,\n",
       " 0.225077,\n",
       " 0.24758449999999999,\n",
       " 0.272343,\n",
       " 0.2995775,\n",
       " 0.329535,\n",
       " 0.3624885,\n",
       " 0.39873749999999997,\n",
       " 0.438611,\n",
       " 0.482472,\n",
       " 0.5307195,\n",
       " 0.5837915,\n",
       " 0.6421705,\n",
       " 0.7063875,\n",
       " 0.777026,\n",
       " 0.8547285,\n",
       " 0.9402014999999999,\n",
       " 1.0342215,\n",
       " 1.137645,\n",
       " 1.25141,\n",
       " 1.37655]"
      ]
     },
     "execution_count": 16,
     "metadata": {},
     "output_type": "execute_result"
    }
   ],
   "source": [
    "k_range_center"
   ]
  },
  {
   "cell_type": "code",
   "execution_count": 17,
   "metadata": {},
   "outputs": [
    {
     "data": {
      "text/plain": [
       "[47, 40, 33, 27, 22, 17, 13, 9, 5, 1]"
      ]
     },
     "execution_count": 17,
     "metadata": {},
     "output_type": "execute_result"
    }
   ],
   "source": [
    "iz_list = []\n",
    "\n",
    "for j in range(len(z_range_center)):\n",
    "    iz_list.append(min(range(len(zlist)), key=lambda i: np.abs(zlist[i]-z_range_center[j])))\n",
    "\n",
    "iz_list"
   ]
  },
  {
   "cell_type": "code",
   "execution_count": 18,
   "metadata": {},
   "outputs": [
    {
     "name": "stdout",
     "output_type": "stream",
     "text": [
      "25.46197181625777\n",
      "22.15338158551349\n",
      "19.2747175754866\n",
      "17.106927664800104\n",
      "15.487881441501974\n",
      "14.02206616209623\n",
      "12.949947541484711\n",
      "11.959802456254806\n",
      "11.045363259922468\n",
      "10.200841526428455\n"
     ]
    }
   ],
   "source": [
    "for i in range(len(iz_list)):\n",
    "    print(zlist[iz_list[i]])"
   ]
  },
  {
   "cell_type": "code",
   "execution_count": 19,
   "metadata": {},
   "outputs": [],
   "source": [
    "ik_list = []\n",
    "\n",
    "for j in range(len(k_range_center)):\n",
    "    ik_list.append(min(range(len(klist)), key=lambda i: np.abs(klist[i]-k_range_center[j])))\n",
    "\n"
   ]
  },
  {
   "cell_type": "code",
   "execution_count": 20,
   "metadata": {},
   "outputs": [
    {
     "name": "stdout",
     "output_type": "stream",
     "text": [
      "0.09563411636162635\n",
      "0.11547230876763816\n",
      "0.11547230876763816\n",
      "0.1394257049619067\n",
      "0.1394257049619067\n",
      "0.16834795641994382\n",
      "0.20326979475208332\n",
      "0.20326979475208332\n",
      "0.24543576493132385\n",
      "0.24543576493132385\n",
      "0.29634857840484286\n",
      "0.29634857840484286\n",
      "0.3578226667460024\n",
      "0.3578226667460024\n",
      "0.4320488443926624\n",
      "0.4320488443926624\n",
      "0.5216723849233917\n",
      "0.5216723849233917\n",
      "0.6298872933550222\n",
      "0.6298872933550222\n",
      "0.760550134139035\n",
      "0.760550134139035\n",
      "0.9183174714605349\n",
      "0.9183174714605349\n",
      "1.1088118199391528\n",
      "1.1088118199391528\n",
      "1.3388220198853236\n",
      "1.3388220198853236\n"
     ]
    }
   ],
   "source": [
    "for i in range(len(ik_list)):\n",
    "    print(klist[ik_list[i]])"
   ]
  },
  {
   "cell_type": "code",
   "execution_count": 21,
   "metadata": {},
   "outputs": [
    {
     "data": {
      "text/plain": [
       "array([3.53428726e-06, 7.26550157e-06, 1.54222409e-05, 3.17409273e-05,\n",
       "       6.70512486e-05, 1.37964365e-04, 2.89065785e-04, 5.92406934e-04,\n",
       "       1.22636297e-03, 2.48878954e-03, 5.06125064e-03, 1.00854292e-02,\n",
       "       1.99628934e-02, 3.85594085e-02, 7.31568113e-02, 1.34141747e-01,\n",
       "       2.37629698e-01, 3.99729497e-01, 6.34435786e-01, 9.34687449e-01,\n",
       "       1.27649130e+00, 1.62449770e+00, 1.99243807e+00, 2.45180348e+00,\n",
       "       3.10607350e+00, 3.96773125e+00, 4.75242042e+00, 5.05944292e+00,\n",
       "       5.88311803e+00, 6.99058672e+00, 7.26063835e+00, 8.45954532e+00,\n",
       "       9.14611724e+00, 9.98342709e+00, 1.09939812e+01, 1.20298054e+01,\n",
       "       1.31789916e+01, 1.43794794e+01, 1.55780379e+01, 1.67381561e+01,\n",
       "       1.77398318e+01, 1.82865418e+01, 1.81431886e+01, 1.69183683e+01,\n",
       "       1.43913642e+01])"
      ]
     },
     "execution_count": 21,
     "metadata": {},
     "output_type": "execute_result"
    }
   ],
   "source": [
    "powerspec21.Deltasq_T21[_iz]"
   ]
  },
  {
   "cell_type": "code",
   "execution_count": 22,
   "metadata": {},
   "outputs": [
    {
     "data": {
      "text/plain": [
       "array([9.62678980e+00, 9.76435692e+00, 9.98841659e+00, 1.03345484e+01,\n",
       "       1.08581745e+01, 1.16116555e+01, 1.26464615e+01, 1.39950066e+01,\n",
       "       1.56239425e+01, 1.74167033e+01, 1.90876192e+01, 2.01865339e+01,\n",
       "       2.01464578e+01, 1.85051135e+01, 1.52304841e+01, 1.10707387e+01,\n",
       "       7.55578103e+00, 6.53205585e+00, 9.23944110e+00, 1.56189009e+01,\n",
       "       2.40455172e+01, 3.23024894e+01, 3.81343136e+01, 4.02434475e+01,\n",
       "       3.87279836e+01, 3.43284834e+01, 2.82427690e+01, 2.18132162e+01,\n",
       "       1.59286813e+01, 1.10156257e+01, 7.26063835e+00, 4.58549510e+00,\n",
       "       2.78537454e+00, 1.63051515e+00, 9.20721775e-01, 5.02994194e-01,\n",
       "       2.66246823e-01, 1.36697793e-01, 6.81053112e-02, 3.29270449e-02,\n",
       "       1.54446169e-02, 7.02419904e-03, 3.09503275e-03, 1.32009038e-03,\n",
       "       5.44572382e-04, 2.17050562e-04, 8.34803333e-05, 3.09443274e-05,\n",
       "       1.10405342e-05, 3.78592581e-06, 1.24594510e-06, 3.92853808e-07,\n",
       "       1.18433547e-07, 3.40542396e-08, 9.33804024e-09, 2.43700558e-09,\n",
       "       6.03567195e-10, 1.41476531e-10, 3.13961734e-11, 6.57353367e-12,\n",
       "       1.29459890e-12, 2.39811006e-13, 4.15624751e-14, 6.74429857e-15])"
      ]
     },
     "execution_count": 22,
     "metadata": {},
     "output_type": "execute_result"
    }
   ],
   "source": [
    "powerspec21.Deltasq_T21[:,_ik]"
   ]
  },
  {
   "cell_type": "code",
   "execution_count": 23,
   "metadata": {},
   "outputs": [],
   "source": [
    "obs_PS21 = np.ndarray((len(iz_list), len(ik_list)))\n",
    "\n",
    "for i in range(len(ik_list)):\n",
    "    for j in range(len(iz_list)):\n",
    "\n",
    "\n",
    "       obs_PS21[j,i] =powerspec21.Deltasq_T21[iz_list[j],ik_list[i]]"
   ]
  },
  {
   "cell_type": "code",
   "execution_count": 24,
   "metadata": {},
   "outputs": [
    {
     "data": {
      "text/plain": [
       "(10, 28)"
      ]
     },
     "execution_count": 24,
     "metadata": {},
     "output_type": "execute_result"
    }
   ],
   "source": [
    "np.shape(obs_PS21)"
   ]
  },
  {
   "cell_type": "code",
   "execution_count": 25,
   "metadata": {},
   "outputs": [
    {
     "data": {
      "text/plain": [
       "(64, 45)"
      ]
     },
     "execution_count": 25,
     "metadata": {},
     "output_type": "execute_result"
    }
   ],
   "source": [
    "np.shape(powerspec21.Deltasq_T21)"
   ]
  },
  {
   "cell_type": "code",
   "execution_count": 26,
   "metadata": {},
   "outputs": [
    {
     "data": {
      "text/plain": [
       "64"
      ]
     },
     "execution_count": 26,
     "metadata": {},
     "output_type": "execute_result"
    }
   ],
   "source": [
    "len(zlist)"
   ]
  },
  {
   "cell_type": "code",
   "execution_count": 27,
   "metadata": {},
   "outputs": [
    {
     "data": {
      "text/plain": [
       "45"
      ]
     },
     "execution_count": 27,
     "metadata": {},
     "output_type": "execute_result"
    }
   ],
   "source": [
    "len(klist)"
   ]
  },
  {
   "cell_type": "code",
   "execution_count": 28,
   "metadata": {},
   "outputs": [
    {
     "data": {
      "text/plain": [
       "10"
      ]
     },
     "execution_count": 28,
     "metadata": {},
     "output_type": "execute_result"
    }
   ],
   "source": [
    "len(iz_list)"
   ]
  },
  {
   "cell_type": "code",
   "execution_count": 29,
   "metadata": {},
   "outputs": [
    {
     "data": {
      "text/plain": [
       "28"
      ]
     },
     "execution_count": 29,
     "metadata": {},
     "output_type": "execute_result"
    }
   ],
   "source": [
    "len(ik_list)"
   ]
  },
  {
   "cell_type": "code",
   "execution_count": 30,
   "metadata": {},
   "outputs": [
    {
     "data": {
      "text/plain": [
       "7.2606383548820705"
      ]
     },
     "execution_count": 30,
     "metadata": {},
     "output_type": "execute_result"
    }
   ],
   "source": [
    "powerspec21.Deltasq_T21[_iz,_ik]"
   ]
  },
  {
   "cell_type": "code",
   "execution_count": 31,
   "metadata": {},
   "outputs": [
    {
     "data": {
      "text/plain": [
       "[29,\n",
       " 30,\n",
       " 30,\n",
       " 31,\n",
       " 31,\n",
       " 32,\n",
       " 33,\n",
       " 33,\n",
       " 34,\n",
       " 34,\n",
       " 35,\n",
       " 35,\n",
       " 36,\n",
       " 36,\n",
       " 37,\n",
       " 37,\n",
       " 38,\n",
       " 38,\n",
       " 39,\n",
       " 39,\n",
       " 40,\n",
       " 40,\n",
       " 41,\n",
       " 41,\n",
       " 42,\n",
       " 42,\n",
       " 43,\n",
       " 43]"
      ]
     },
     "execution_count": 31,
     "metadata": {},
     "output_type": "execute_result"
    }
   ],
   "source": [
    "ik_list"
   ]
  },
  {
   "cell_type": "code",
   "execution_count": 32,
   "metadata": {},
   "outputs": [
    {
     "name": "stdout",
     "output_type": "stream",
     "text": [
      "14.1338\n",
      "0.2995775\n"
     ]
    }
   ],
   "source": [
    "print(z_range_center[5])\n",
    "print(k_range_center[11])"
   ]
  },
  {
   "cell_type": "code",
   "execution_count": null,
   "metadata": {},
   "outputs": [],
   "source": []
  },
  {
   "cell_type": "code",
   "execution_count": 33,
   "metadata": {},
   "outputs": [
    {
     "name": "stdout",
     "output_type": "stream",
     "text": [
      "54.75535839501544\n",
      "54.75535839501544\n"
     ]
    }
   ],
   "source": [
    "ki = 11\n",
    "zi = 5\n",
    "\n",
    "kchoose=k_range_center[ki]\n",
    "_ik = min(range(len(klist)), key=lambda i: np.abs(klist[i]-kchoose))\n",
    "zchoose=z_range_center[zi]\n",
    "_iz = min(range(len(zlist)), key=lambda i: np.abs(zlist[i]-zchoose))\n",
    "\n",
    "print(powerspec21.Deltasq_T21[_iz,_ik])\n",
    "print(obs_PS21[zi,ki])"
   ]
  },
  {
   "cell_type": "code",
   "execution_count": 34,
   "metadata": {},
   "outputs": [
    {
     "name": "stdout",
     "output_type": "stream",
     "text": [
      "144.78004200962067\n",
      "144.78004200962067\n"
     ]
    }
   ],
   "source": [
    "ki = 18\n",
    "zi = 5\n",
    "\n",
    "kchoose=k_range_center[ki]\n",
    "_ik = min(range(len(klist)), key=lambda i: np.abs(klist[i]-kchoose))\n",
    "zchoose=z_range_center[zi]\n",
    "_iz = min(range(len(zlist)), key=lambda i: np.abs(zlist[i]-zchoose))\n",
    "\n",
    "print(powerspec21.Deltasq_T21[_iz,_ik])\n",
    "print(obs_PS21[zi,ki])"
   ]
  },
  {
   "cell_type": "code",
   "execution_count": 35,
   "metadata": {},
   "outputs": [
    {
     "name": "stdout",
     "output_type": "stream",
     "text": [
      "17.41670326572958\n",
      "17.41670326572958\n"
     ]
    }
   ],
   "source": [
    "ki = 1\n",
    "zi = 7\n",
    "kchoose=k_range_center[ki]\n",
    "_ik = min(range(len(klist)), key=lambda i: np.abs(klist[i]-kchoose))\n",
    "zchoose=z_range_center[zi]\n",
    "_iz = min(range(len(zlist)), key=lambda i: np.abs(zlist[i]-zchoose))\n",
    "\n",
    "print(powerspec21.Deltasq_T21[_iz,_ik])\n",
    "print(obs_PS21[zi,ki])"
   ]
  },
  {
   "cell_type": "code",
   "execution_count": 36,
   "metadata": {},
   "outputs": [],
   "source": [
    "def obs_PS(klist,zlist,PS,krange,zrange):\n",
    "    \n",
    "    z_range_center = np.ndarray(len(zrange)-1)\n",
    "    k_range_center = np.ndarray(len(krange)-1)\n",
    "    iz_list = []\n",
    "    ik_list = []\n",
    "\n",
    "    \n",
    "    for i in range(len(z_range_center)):\n",
    "        z_range_center[i]=(zrange[i]-zrange[i+1])/2+zrange[i+1]\n",
    "\n",
    "    for i in range(len(k_range_center)):\n",
    "        k_range_center[i]=(krange[i]-krange[i+1])/2+krange[i+1]\n",
    "                              \n",
    "    for j in range(len(z_range_center)):\n",
    "        iz_list.append(min(range(len(zlist)), key=lambda i: np.abs(zlist[i]-z_range_center[j])))\n",
    "    for j in range(len(k_range_center)):\n",
    "        ik_list.append(min(range(len(klist)), key=lambda i: np.abs(klist[i]-k_range_center[j])))\n",
    "\n",
    "    obs_PS21 = np.ndarray((len(iz_list), len(ik_list)))\n",
    "\n",
    "    for i in range(len(ik_list)):\n",
    "        for j in range(len(iz_list)):\n",
    "\n",
    "\n",
    "            obs_PS21[j,i] = PS[iz_list[j],ik_list[i]]\n",
    "\n",
    "    \n",
    "    return obs_PS21"
   ]
  },
  {
   "cell_type": "markdown",
   "metadata": {},
   "source": []
  },
  {
   "cell_type": "code",
   "execution_count": 37,
   "metadata": {},
   "outputs": [],
   "source": [
    "obs = obs_PS(klist,zlist,powerspec21.Deltasq_T21,krange,zrange)"
   ]
  },
  {
   "cell_type": "code",
   "execution_count": 38,
   "metadata": {},
   "outputs": [
    {
     "name": "stdout",
     "output_type": "stream",
     "text": [
      "23.79016215897687\n",
      "23.79016215897687\n"
     ]
    }
   ],
   "source": [
    "ki = 10\n",
    "zi = 7\n",
    "kchoose=k_range_center[ki]\n",
    "_ik = min(range(len(klist)), key=lambda i: np.abs(klist[i]-kchoose))\n",
    "zchoose=z_range_center[zi]\n",
    "_iz = min(range(len(zlist)), key=lambda i: np.abs(zlist[i]-zchoose))\n",
    "\n",
    "print(powerspec21.Deltasq_T21[_iz,_ik])\n",
    "print(obs_PS21[zi,ki])"
   ]
  },
  {
   "cell_type": "code",
   "execution_count": 39,
   "metadata": {},
   "outputs": [],
   "source": [
    "    z_range_center2 = np.ndarray(len(zrange)-1)\n",
    "    k_range_center = np.ndarray(len(krange)-1)\n",
    "    iz_list = []\n",
    "    ik_list = []\n",
    "\n",
    "    \n",
    "    for i in range(len(z_range_center2)):\n",
    "        z_range_center2[i]=(zrange[i]-zrange[i+1])/2+zrange[i+1]"
   ]
  },
  {
   "cell_type": "code",
   "execution_count": 40,
   "metadata": {},
   "outputs": [
    {
     "data": {
      "text/plain": [
       "array([25.4414 , 21.999  , 19.3522 , 17.25315, 15.54745, 14.1338 ,\n",
       "       12.943  , 11.92615, 11.0477 , 10.28119])"
      ]
     },
     "execution_count": 40,
     "metadata": {},
     "output_type": "execute_result"
    }
   ],
   "source": [
    "z_range_center2"
   ]
  },
  {
   "cell_type": "code",
   "execution_count": 41,
   "metadata": {},
   "outputs": [
    {
     "data": {
      "text/plain": [
       "[25.4414,\n",
       " 21.999000000000002,\n",
       " 19.3522,\n",
       " 17.253149999999998,\n",
       " 15.54745,\n",
       " 14.1338,\n",
       " 12.943000000000001,\n",
       " 11.92615,\n",
       " 11.047699999999999,\n",
       " 10.28119]"
      ]
     },
     "execution_count": 41,
     "metadata": {},
     "output_type": "execute_result"
    }
   ],
   "source": [
    "z_range_center"
   ]
  },
  {
   "cell_type": "code",
   "execution_count": 43,
   "metadata": {},
   "outputs": [
    {
     "data": {
      "text/plain": [
       "array([25.4414 , 21.999  , 19.3522 , 17.25315, 15.54745, 14.1338 ,\n",
       "       12.943  , 11.92615, 11.0477 , 10.28119])"
      ]
     },
     "execution_count": 43,
     "metadata": {},
     "output_type": "execute_result"
    }
   ],
   "source": [
    "zeus21.Power_Spectra_Obs(powerspec21.Deltasq_T21, klist,zlist,krange,zrange).z_center_value"
   ]
  },
  {
   "cell_type": "code",
   "execution_count": 45,
   "metadata": {},
   "outputs": [
    {
     "data": {
      "text/plain": [
       "array([0.105    , 0.1155   , 0.12705  , 0.139755 , 0.1537305, 0.1691035,\n",
       "       0.186014 , 0.2046155, 0.225077 , 0.2475845, 0.272343 , 0.2995775,\n",
       "       0.329535 , 0.3624885, 0.3987375, 0.438611 , 0.482472 , 0.5307195,\n",
       "       0.5837915, 0.6421705, 0.7063875, 0.777026 , 0.8547285, 0.9402015,\n",
       "       1.0342215, 1.137645 , 1.25141  , 1.37655  ])"
      ]
     },
     "execution_count": 45,
     "metadata": {},
     "output_type": "execute_result"
    }
   ],
   "source": [
    "zeus21.Power_Spectra_Obs(powerspec21.Deltasq_T21, klist,zlist,krange,zrange).k_center_value"
   ]
  },
  {
   "cell_type": "code",
   "execution_count": 50,
   "metadata": {},
   "outputs": [],
   "source": [
    "obs_ps21cm = zeus21.Power_Spectra_Obs(powerspec21.Deltasq_T21, klist,zlist,krange,zrange)"
   ]
  },
  {
   "cell_type": "code",
   "execution_count": 51,
   "metadata": {},
   "outputs": [
    {
     "data": {
      "text/plain": [
       "array([[2.95687932e-05, 3.09443274e-05, 3.09443274e-05, 3.59062498e-05,\n",
       "        3.59062498e-05, 3.89772019e-05, 4.28387158e-05, 4.28387158e-05,\n",
       "        4.78116529e-05, 4.78116529e-05, 5.33195443e-05, 5.33195443e-05,\n",
       "        5.94938487e-05, 5.94938487e-05, 6.65950675e-05, 6.65950675e-05,\n",
       "        7.43308139e-05, 7.43308139e-05, 8.21236633e-05, 8.21236633e-05,\n",
       "        8.91826577e-05, 8.91826577e-05, 9.37379507e-05, 9.37379507e-05,\n",
       "        9.32507390e-05, 9.32507390e-05, 8.49382739e-05, 8.49382739e-05],\n",
       "       [1.48778182e-02, 1.54446169e-02, 1.54446169e-02, 1.78511060e-02,\n",
       "        1.78511060e-02, 1.92501689e-02, 2.10170522e-02, 2.10170522e-02,\n",
       "        2.32665851e-02, 2.32665851e-02, 2.56386234e-02, 2.56386234e-02,\n",
       "        2.82591005e-02, 2.82591005e-02, 3.12553899e-02, 3.12553899e-02,\n",
       "        3.43429524e-02, 3.43429524e-02, 3.74022511e-02, 3.74022511e-02,\n",
       "        4.01258079e-02, 4.01258079e-02, 4.16547239e-02, 4.16547239e-02,\n",
       "        4.10825391e-02, 4.10825391e-02, 3.73339175e-02, 3.73339175e-02],\n",
       "       [1.57283187e+00, 1.63051515e+00, 1.63051515e+00, 1.89144358e+00,\n",
       "        1.89144358e+00, 2.04005476e+00, 2.22241625e+00, 2.22241625e+00,\n",
       "        2.44650642e+00, 2.44650642e+00, 2.67800191e+00, 2.67800191e+00,\n",
       "        2.93504310e+00, 2.93504310e+00, 3.21311411e+00, 3.21311411e+00,\n",
       "        3.49107846e+00, 3.49107846e+00, 3.75945469e+00, 3.75945469e+00,\n",
       "        3.99362716e+00, 3.99362716e+00, 4.11505049e+00, 4.11505049e+00,\n",
       "        4.06089383e+00, 4.06089383e+00, 3.73353688e+00, 3.73353688e+00],\n",
       "       [2.08707145e+01, 2.18132162e+01, 2.18132162e+01, 2.56639882e+01,\n",
       "        2.56639882e+01, 2.79598651e+01, 3.07092482e+01, 3.07092482e+01,\n",
       "        3.39666041e+01, 3.39666041e+01, 3.72893765e+01, 3.72893765e+01,\n",
       "        4.09767858e+01, 4.09767858e+01, 4.46940761e+01, 4.46940761e+01,\n",
       "        4.84216342e+01, 4.84216342e+01, 5.20759319e+01, 5.20759319e+01,\n",
       "        5.52660575e+01, 5.52660575e+01, 5.72854196e+01, 5.72854196e+01,\n",
       "        5.75910898e+01, 5.75910898e+01, 5.51451077e+01, 5.51451077e+01],\n",
       "       [3.48218301e+01, 3.81343136e+01, 3.81343136e+01, 4.75174996e+01,\n",
       "        4.75174996e+01, 5.44006285e+01, 6.26273131e+01, 6.26273131e+01,\n",
       "        7.22750089e+01, 7.22750089e+01, 8.24822957e+01, 8.24822957e+01,\n",
       "        9.39946041e+01, 9.39946041e+01, 1.05459087e+02, 1.05459087e+02,\n",
       "        1.17500543e+02, 1.17500543e+02, 1.30178226e+02, 1.30178226e+02,\n",
       "        1.42627639e+02, 1.42627639e+02, 1.54453090e+02, 1.54453090e+02,\n",
       "        1.65578603e+02, 1.65578603e+02, 1.74647536e+02, 1.74647536e+02],\n",
       "       [3.79720902e+00, 6.53205585e+00, 6.53205585e+00, 1.13562099e+01,\n",
       "        1.13562099e+01, 1.81119845e+01, 2.73697227e+01, 2.73697227e+01,\n",
       "        3.95531434e+01, 3.95531434e+01, 5.47553584e+01, 5.47553584e+01,\n",
       "        7.31845532e+01, 7.31845532e+01, 9.42242972e+01, 9.42242972e+01,\n",
       "        1.18087006e+02, 1.18087006e+02, 1.44780042e+02, 1.44780042e+02,\n",
       "        1.73325611e+02, 1.73325611e+02, 2.03442634e+02, 2.03442634e+02,\n",
       "        2.34333830e+02, 2.34333830e+02, 2.64836444e+02, 2.64836444e+02],\n",
       "       [1.88302792e+01, 1.85051135e+01, 1.85051135e+01, 2.01853870e+01,\n",
       "        2.01853870e+01, 2.31144568e+01, 2.82621432e+01, 2.82621432e+01,\n",
       "        3.59729418e+01, 3.59729418e+01, 4.65391982e+01, 4.65391982e+01,\n",
       "        6.01008376e+01, 6.01008376e+01, 7.65208743e+01, 7.65208743e+01,\n",
       "        9.55360549e+01, 9.55360549e+01, 1.16547890e+02, 1.16547890e+02,\n",
       "        1.38336577e+02, 1.38336577e+02, 1.59272213e+02, 1.59272213e+02,\n",
       "        1.77056012e+02, 1.77056012e+02, 1.89241231e+02, 1.89241231e+02],\n",
       "       [1.82693519e+01, 1.74167033e+01, 1.74167033e+01, 1.82702507e+01,\n",
       "        1.82702507e+01, 1.85809614e+01, 1.95519041e+01, 1.95519041e+01,\n",
       "        2.12968497e+01, 2.12968497e+01, 2.37901622e+01, 2.37901622e+01,\n",
       "        2.70947323e+01, 2.70947323e+01, 3.11627722e+01, 3.11627722e+01,\n",
       "        3.58412353e+01, 3.58412353e+01, 4.07877931e+01, 4.07877931e+01,\n",
       "        4.54302927e+01, 4.54302927e+01, 4.88786882e+01, 4.88786882e+01,\n",
       "        4.99908620e+01, 4.99908620e+01, 4.75396628e+01, 4.75396628e+01],\n",
       "       [1.16569836e+01, 1.16116555e+01, 1.16116555e+01, 1.29394204e+01,\n",
       "        1.29394204e+01, 1.33593862e+01, 1.38979093e+01, 1.38979093e+01,\n",
       "        1.46335462e+01, 1.46335462e+01, 1.53797848e+01, 1.53797848e+01,\n",
       "        1.61414636e+01, 1.61414636e+01, 1.68863184e+01, 1.68863184e+01,\n",
       "        1.76041404e+01, 1.76041404e+01, 1.81888934e+01, 1.81888934e+01,\n",
       "        1.84984868e+01, 1.84984868e+01, 1.82975276e+01, 1.82975276e+01,\n",
       "        1.73048313e+01, 1.73048313e+01, 1.52144048e+01, 1.52144048e+01],\n",
       "       [9.07277450e+00, 9.76435692e+00, 9.76435692e+00, 1.19199193e+01,\n",
       "        1.19199193e+01, 1.32899498e+01, 1.48759502e+01, 1.48759502e+01,\n",
       "        1.68168193e+01, 1.68168193e+01, 1.88698606e+01, 1.88698606e+01,\n",
       "        2.10199595e+01, 2.10199595e+01, 2.32343772e+01, 2.32343772e+01,\n",
       "        2.55667878e+01, 2.55667878e+01, 2.79733139e+01, 2.79733139e+01,\n",
       "        3.04300812e+01, 3.04300812e+01, 3.28853869e+01, 3.28853869e+01,\n",
       "        3.52830684e+01, 3.52830684e+01, 3.75659917e+01, 3.75659917e+01]])"
      ]
     },
     "execution_count": 51,
     "metadata": {},
     "output_type": "execute_result"
    }
   ],
   "source": [
    "\n",
    "obs_ps21cm.PS21"
   ]
  },
  {
   "cell_type": "code",
   "execution_count": 62,
   "metadata": {},
   "outputs": [
    {
     "name": "stdout",
     "output_type": "stream",
     "text": [
      "177.05601169401626\n",
      "177.05601169401626\n",
      "177.05601169401626\n"
     ]
    }
   ],
   "source": [
    "ki = 25\n",
    "zi = 6\n",
    "kchoose=obs_ps21cm.k_center_value[ki]\n",
    "_ik = min(range(len(klist)), key=lambda i: np.abs(klist[i]-kchoose))\n",
    "zchoose=obs_ps21cm.z_center_value[zi]\n",
    "_iz = min(range(len(zlist)), key=lambda i: np.abs(zlist[i]-zchoose))\n",
    "\n",
    "print(powerspec21.Deltasq_T21[_iz,_ik])\n",
    "print(obs_PS21[zi,ki])\n",
    "print(obs_ps21cm.PS21[zi,ki])"
   ]
  },
  {
   "cell_type": "code",
   "execution_count": null,
   "metadata": {},
   "outputs": [],
   "source": []
  }
 ],
 "metadata": {
  "kernelspec": {
   "display_name": "21cm",
   "language": "python",
   "name": "python3"
  },
  "language_info": {
   "codemirror_mode": {
    "name": "ipython",
    "version": 3
   },
   "file_extension": ".py",
   "mimetype": "text/x-python",
   "name": "python",
   "nbconvert_exporter": "python",
   "pygments_lexer": "ipython3",
   "version": "3.10.10"
  },
  "orig_nbformat": 4
 },
 "nbformat": 4,
 "nbformat_minor": 2
}
